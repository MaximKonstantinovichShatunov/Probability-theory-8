{
 "cells": [
  {
   "cell_type": "code",
   "execution_count": 24,
   "id": "2ec112c1",
   "metadata": {},
   "outputs": [],
   "source": [
    "import numpy as np\n",
    "import pandas as pd\n",
    "from scipy import stats\n",
    "from scipy.stats import norm"
   ]
  },
  {
   "cell_type": "markdown",
   "id": "8b9bc7b3",
   "metadata": {},
   "source": [
    "### Задача 1\n",
    "Даны значения величины заработной платы заемщиков банка (zp) и значения их поведенческого кредитного скоринга (ks):\n",
    "\n",
    "zp = [35, 45, 190, 200, 40, 70, 54, 150, 120, 110],\n",
    "\n",
    "ks = [401, 574, 874, 919, 459, 739, 653, 902, 746, 832].\n",
    "\n",
    "Найдите ковариацию этих двух величин с помощью элементарных действий, а затем с помощью функции cov из numpy\n",
    "Полученные значения должны быть равны.\n",
    "\n",
    "Найдите коэффициент корреляции Пирсона с помощью ковариации и среднеквадратичных отклонений двух признаков, а затем с использованием функций из библиотек numpy и pandas."
   ]
  },
  {
   "cell_type": "code",
   "execution_count": 12,
   "id": "87d620bc",
   "metadata": {},
   "outputs": [],
   "source": [
    "zp = np.array([35, 45, 190, 200, 40, 70, 54, 150, 120, 110])\n",
    "ks = np.array([401, 574, 874, 919, 459, 739, 653, 902, 746, 832])\n"
   ]
  },
  {
   "cell_type": "code",
   "execution_count": 14,
   "id": "0d5dfcdb",
   "metadata": {},
   "outputs": [
    {
     "data": {
      "text/plain": [
       "9157.839999999997"
      ]
     },
     "execution_count": 14,
     "metadata": {},
     "output_type": "execute_result"
    }
   ],
   "source": [
    "covariance  = (zp * ks).mean() - zp.mean() * ks.mean()\n",
    "covariance"
   ]
  },
  {
   "cell_type": "code",
   "execution_count": 16,
   "id": "90f3731b",
   "metadata": {},
   "outputs": [
    {
     "data": {
      "text/plain": [
       "9157.840000000002"
      ]
     },
     "execution_count": 16,
     "metadata": {},
     "output_type": "execute_result"
    }
   ],
   "source": [
    "covariance_np = np.cov(zp, ks, ddof=0)[0, 1]\n",
    "covariance_np"
   ]
  },
  {
   "cell_type": "code",
   "execution_count": 17,
   "id": "5069027e",
   "metadata": {},
   "outputs": [],
   "source": [
    "std_zp = np.std(zp, ddof=1)\n",
    "std_ks = np.std(ks, ddof=1)\n"
   ]
  },
  {
   "cell_type": "code",
   "execution_count": 21,
   "id": "a5cb1bb9",
   "metadata": {},
   "outputs": [
    {
     "data": {
      "text/plain": [
       "(0.8874900920739158, 0.8874900920739163)"
      ]
     },
     "execution_count": 21,
     "metadata": {},
     "output_type": "execute_result"
    }
   ],
   "source": [
    "corr = covariance / (zp.std() * ks.std())\n",
    "corr_np = np.corrcoef(zp, ks)[0, 1]\n",
    "corr, corr_np\n",
    "\n"
   ]
  },
  {
   "cell_type": "markdown",
   "id": "a9ecb0e2",
   "metadata": {},
   "source": [
    "### Задача 2\n",
    "Измерены значения IQ выборки студентов,\n",
    "обучающихся в местных технических вузах:\n",
    "\n",
    "131, 125, 115, 122, 131, 115, 107, 99, 125, 111.\n",
    "\n",
    "Известно, что в генеральной совокупности IQ распределен нормально.\n",
    "Найдите доверительный интервал для математического ожидания с надежностью 0.95."
   ]
  },
  {
   "cell_type": "code",
   "execution_count": 22,
   "id": "6a9df163",
   "metadata": {},
   "outputs": [],
   "source": [
    "data = np.array([131, 125, 115, 122, 131, 115, 107, 99, 125, 111]) "
   ]
  },
  {
   "cell_type": "code",
   "execution_count": 29,
   "id": "4348fc83",
   "metadata": {},
   "outputs": [],
   "source": [
    "x_mean = data.mean()\n",
    "s = data.std(ddof=1)\n",
    "n = len(data)\n",
    "t = stats.t.ppf(0.975, 9)\n"
   ]
  },
  {
   "cell_type": "code",
   "execution_count": 32,
   "id": "c9cfc270",
   "metadata": {},
   "outputs": [
    {
     "data": {
      "text/plain": [
       "(110.55608365158724, 125.64391634841274)"
      ]
     },
     "execution_count": 32,
     "metadata": {},
     "output_type": "execute_result"
    }
   ],
   "source": [
    "interval = (x_mean - t * s / np.sqrt(n), x_mean + t * s / np.sqrt(n))\n",
    "interval"
   ]
  },
  {
   "cell_type": "markdown",
   "id": "b11329c0",
   "metadata": {},
   "source": [
    "### Задача 3\n",
    "Известно, что рост футболистов в сборной распределен нормально с дисперсией генеральной совокупности, равной 25 кв.см. Объем выборки равен 27, среднее выборочное составляет 174.2. Найдите доверительный интервал для математического ожидания с надежностью 0.95"
   ]
  },
  {
   "cell_type": "code",
   "execution_count": 33,
   "id": "798d50a8",
   "metadata": {},
   "outputs": [
    {
     "data": {
      "text/plain": [
       "(172.31398912064722, 176.08601087935276)"
      ]
     },
     "execution_count": 33,
     "metadata": {},
     "output_type": "execute_result"
    }
   ],
   "source": [
    "n = 27\n",
    "m = 174.2\n",
    "s = 5\n",
    "z = 1.96\n",
    "left = m - z * s / np.sqrt(n)\n",
    "right = m + z * s / np.sqrt(n)\n",
    "left, right"
   ]
  },
  {
   "cell_type": "code",
   "execution_count": null,
   "id": "e3bc0603",
   "metadata": {},
   "outputs": [],
   "source": []
  }
 ],
 "metadata": {
  "kernelspec": {
   "display_name": "Python 3 (ipykernel)",
   "language": "python",
   "name": "python3"
  },
  "language_info": {
   "codemirror_mode": {
    "name": "ipython",
    "version": 3
   },
   "file_extension": ".py",
   "mimetype": "text/x-python",
   "name": "python",
   "nbconvert_exporter": "python",
   "pygments_lexer": "ipython3",
   "version": "3.9.13"
  }
 },
 "nbformat": 4,
 "nbformat_minor": 5
}
